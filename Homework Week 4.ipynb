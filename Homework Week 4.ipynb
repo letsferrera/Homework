{
 "cells": [
  {
   "cell_type": "markdown",
   "metadata": {},
   "source": [
    "**Homework Week 4**\n",
    "**Media Practices: Programming**\n",
    "This assignment is mostly about practicing manipulating images and scraping data out of webpages in python. \n"
   ]
  },
  {
   "cell_type": "markdown",
   "metadata": {
    "collapsed": true
   },
   "source": [
    "- Read in data/cc_cat.png\n",
    "- Divide the image into 9 rectangles (3x3)\n",
    "- for the three rectangles row 0 apply a different filter from ImageFilter module\n",
    "- for the three rectangles row 1 apply a different image operation from ImageOps module\n",
    "- for rectangle 0 on row 3, rotate the rectangle 180 degrees\n",
    "- for rectangle 1 on row 3, flip the rectangle vertically\n",
    "- for rectangle 2 on row 3, flip the rectangle horizontally\n"
   ]
  },
  {
   "cell_type": "code",
   "execution_count": null,
   "metadata": {
    "collapsed": true
   },
   "outputs": [],
   "source": []
  },
  {
   "cell_type": "markdown",
   "metadata": {
    "collapsed": true
   },
   "source": [
    "**Dictionaries**\n",
    "Given the data below:\n",
    "- Make a dictionary of all prices over 200\n",
    "- Print the keys from that dictionary\n",
    "- Make a dictionary of tech stocks\n",
    "- Print the average price of tech shaares"
   ]
  },
  {
   "cell_type": "code",
   "execution_count": 8,
   "metadata": {
    "collapsed": false
   },
   "outputs": [
    {
     "name": "stdout",
     "output_type": "stream",
     "text": [
      "AAPL 612.78\n",
      "IBM 205.55\n"
     ]
    }
   ],
   "source": [
    "prices = {\n",
    "   'ACME': 45.23,\n",
    "   'AAPL': 612.78,\n",
    "   'IBM': 205.55,\n",
    "   'HPQ': 37.20,\n",
    "   'FB': 10.75\n",
    "}\n",
    "tech_names = { 'AAPL', 'IBM', 'HPQ', 'MSFT' }\n",
    "\n",
    "for key,value in prices.items():\n",
    "    if value > 200:\n",
    "        print key, value"
   ]
  },
  {
   "cell_type": "code",
   "execution_count": 6,
   "metadata": {
    "collapsed": false
   },
   "outputs": [
    {
     "ename": "NameError",
     "evalue": "name 'prices' is not defined",
     "output_type": "error",
     "traceback": [
      "\u001b[0;31m---------------------------------------------------------------------------\u001b[0m",
      "\u001b[0;31mNameError\u001b[0m                                 Traceback (most recent call last)",
      "\u001b[0;32m<ipython-input-6-83946c255205>\u001b[0m in \u001b[0;36m<module>\u001b[0;34m()\u001b[0m\n\u001b[0;32m----> 1\u001b[0;31m \u001b[0;32mfor\u001b[0m \u001b[0mkey\u001b[0m\u001b[0;34m,\u001b[0m\u001b[0mvalue\u001b[0m \u001b[0;32min\u001b[0m \u001b[0mprices\u001b[0m\u001b[0;34m.\u001b[0m\u001b[0mitems\u001b[0m\u001b[0;34m(\u001b[0m\u001b[0;34m)\u001b[0m\u001b[0;34m:\u001b[0m\u001b[0;34m\u001b[0m\u001b[0m\n\u001b[0m\u001b[1;32m      2\u001b[0m     \u001b[0;32mif\u001b[0m \u001b[0mvalue\u001b[0m \u001b[0;34m>\u001b[0m \u001b[0;36m200\u001b[0m\u001b[0;34m:\u001b[0m\u001b[0;34m\u001b[0m\u001b[0m\n\u001b[1;32m      3\u001b[0m         \u001b[0;32mprint\u001b[0m \u001b[0mprices\u001b[0m\u001b[0;34m\u001b[0m\u001b[0m\n",
      "\u001b[0;31mNameError\u001b[0m: name 'prices' is not defined"
     ]
    }
   ],
   "source": []
  },
  {
   "cell_type": "markdown",
   "metadata": {},
   "source": [
    "**Web scraping.**\n",
    "- Add comments about what's going on here. \n",
    "- Then create a dictionary called sales that hasa buyers as keys and prices as values"
   ]
  },
  {
   "cell_type": "code",
   "execution_count": 15,
   "metadata": {
    "collapsed": false
   },
   "outputs": [
    {
     "name": "stdout",
     "output_type": "stream",
     "text": [
      "Buyers:  ['Carson Busses', 'Earl E. Byrd', 'Patty Cakes', 'Derri Anne Connecticut', 'Moe Dess', 'Leda Doggslife', 'Dan Druff', 'Al Fresco', 'Ido Hoe', 'Howie Kisses', 'Len Lease', 'Phil Meup', 'Ira Pent', 'Ben D. Rules', 'Ave Sectomy', 'Gary Shattire', 'Bobbi Soks', 'Sheila Takya', 'Rose Tattoo', 'Moe Tell']\n",
      "Prices:  ['$29.95', '$8.37', '$15.26', '$19.25', '$19.25', '$13.99', '$31.57', '$8.49', '$14.47', '$15.86', '$11.11', '$15.98', '$16.27', '$7.50', '$50.85', '$14.26', '$5.68', '$15.00', '$114.07', '$10.09']\n",
      "{'Leda Doggslife': '$13.99', 'Carson Busses': '$29.95', 'Derri Anne Connecticut': '$19.25', 'Bobbi Soks': '$5.68', 'Ben D. Rules': '$7.50', 'Patty Cakes': '$15.26', 'Ira Pent': '$16.27', 'Moe Tell': '$10.09', 'Ido Hoe': '$14.47', 'Ave Sectomy': '$50.85', 'Phil Meup': '$15.98', 'Al Fresco': '$8.49', 'Moe Dess': '$19.25', 'Sheila Takya': '$15.00', 'Earl E. Byrd': '$8.37', 'Rose Tattoo': '$114.07', 'Gary Shattire': '$14.26', 'Len Lease': '$11.11', 'Howie Kisses': '$15.86', 'Dan Druff': '$31.57'}\n"
     ]
    }
   ],
   "source": [
    "from lxml import html #import the html code of a page\n",
    "import requests #import pages requests\n",
    "page = requests.get('http://econpy.pythonanywhere.com/ex/001.html') #this is the page I want to import from\n",
    "tree = html.fromstring(page.text) # a tree is the html in a string format\n",
    "#This will create a list of buyers:\n",
    "buyers = tree.xpath('//div[@title=\"buyer-name\"]/text()') #buyers is the name of these elements, and I want it in a string\n",
    "#This will create a list of prices\n",
    "prices = tree.xpath('//span[@class=\"item-price\"]/text()')\n",
    "print 'Buyers: ', buyers\n",
    "print 'Prices: ', prices\n",
    "\n",
    "keys = buyers\n",
    "values = prices\n",
    "sales = dict(zip(keys,values))\n",
    "print sales\n",
    "\n",
    "#>>> first_string = \"foo,bar,etc\"\n",
    "#>>> second_string = \"1,2,3\"\n",
    "#>>> keys = first_string.split(',')\n",
    "#>>> values = second_string.split(',')\n",
    "#>>> output_dict = dict(zip(keys, values))\n",
    "#>>> output_dict"
   ]
  },
  {
   "cell_type": "markdown",
   "metadata": {},
   "source": [
    "This is mostly to see if BeautifulSoup is installed properly.  use www.newschool.edu as the input url\n",
    "\n",
    "If your system doesn't recognize beautifulSoup then you will need to type\n",
    "\n",
    "> conda install beautifulsoup4 \n",
    "\n",
    "in a terminal"
   ]
  },
  {
   "cell_type": "code",
   "execution_count": 16,
   "metadata": {
    "collapsed": false
   },
   "outputs": [
    {
     "name": "stdout",
     "output_type": "stream",
     "text": [
      "http://www.newschool.edu/news/2015/04/parsons-named-best-art-and-design-school-in-the-country/#.ViRnMKLwNB-\n",
      "#top\n",
      "None\n",
      "None\n",
      "#\n",
      "/admission/apply-online/\n",
      "/about/contact/\n",
      "https://my.newschool.edu/\n",
      "/about/campus-map/\n",
      "http://courses.newschool.edu\n",
      "/directory/\n",
      "/about/resources-services/\n",
      "/prospective-student-info/\n",
      "/student-info/\n",
      "/parent-info/\n",
      "/alumni-info/\n",
      "/giving/\n",
      "/faculty-info/\n",
      "/employee-info/\n",
      "/parsons/\n",
      "/lang/\n",
      "/performing-arts/\n",
      "/mannes/\n",
      "/jazz/\n",
      "/drama/\n",
      "/nssr/\n",
      "/parsons-paris/\n",
      "/public-engagement/milano-school/\n",
      "/public-engagement/school-of-media-studies/\n",
      "/public-engagement/bachelors-program/\n",
      "/public-engagement/mfa-creative-writing/\n",
      "/public-engagement/school-of-language-learning-teaching/\n",
      "http://social.newschool.edu\n",
      "http://form.jotformpro.com/form/23346135072952\n",
      "#\n",
      "#\n",
      "/\n",
      "/academics/?trigger=design\n",
      "/academics/?trigger=liberal-arts\n",
      "/academics/?trigger=business\n",
      "/academics/?trigger=media\n",
      "/academics/?trigger=performing-arts\n",
      "/academics/?trigger=social-sciences\n",
      "#\n",
      "/about/\n",
      "/academics/\n",
      "/admission/\n",
      "http://events.newschool.edu\n",
      "/giving/\n",
      "http://blogs.newschool.edu/news/\n",
      "http://social.newschool.edu\n",
      "/about/?trigger=video\n",
      "http://blogs.newschool.edu/news/2015/04/parsons-named-best-art-and-design-school-in-the-country/#.VV4JlWRVhBd\n",
      "http://www.newschool.edu/mannes/on-the-move/\n",
      "http://blogs.newschool.edu/news/2015/10/the-new-school-remembers-julien-j-studley/#.ViAER2SrSsq\n",
      "http://blogs.newschool.edu/news/2015/08/lang-lands-on-princeton-reviews-best-college-list/#.VcthcJ1VhBc\n",
      "http://www.newschool.edu/admission/graduate-events/\n",
      "http://blogs.newschool.edu/tedc/2015/10/05/tedc-brings-climatecitizen-to-sxsw-eco/\n",
      "http://www.publicseminar.org/2015/10/just-a-peaceful-quartet/#.Vh8pTIEeLTR\n",
      "http://blogs.newschool.edu/news/2015/09/media-studies-celebrates-40-years/#.VfiMY2RVhBc\n",
      "http://www.newschool.edu/admission/#virtualtour\n"
     ]
    },
    {
     "name": "stderr",
     "output_type": "stream",
     "text": [
      "/Users/letsferrera/anaconda/lib/python2.7/site-packages/bs4/__init__.py:166: UserWarning: No parser was explicitly specified, so I'm using the best available HTML parser for this system (\"lxml\"). This usually isn't a problem, but if you run this code on another system, or in a different virtual environment, it may use a different parser and behave differently.\n",
      "\n",
      "To get rid of this warning, change this:\n",
      "\n",
      " BeautifulSoup([your markup])\n",
      "\n",
      "to this:\n",
      "\n",
      " BeautifulSoup([your markup], \"lxml\")\n",
      "\n",
      "  markup_type=markup_type))\n"
     ]
    }
   ],
   "source": [
    "from bs4 import BeautifulSoup\n",
    "\n",
    "import requests\n",
    "\n",
    "url = raw_input(\"http://www.newschool.edu/\")\n",
    "\n",
    "r  = requests.get(\"http://www.newschool.edu/\")\n",
    "\n",
    "data = r.text\n",
    "\n",
    "soup = BeautifulSoup(data)\n",
    "\n",
    "for link in soup.find_all('a'):\n",
    "    print(link.get('href'))"
   ]
  },
  {
   "cell_type": "code",
   "execution_count": null,
   "metadata": {
    "collapsed": true
   },
   "outputs": [],
   "source": []
  }
 ],
 "metadata": {
  "kernelspec": {
   "display_name": "Python 2",
   "language": "python",
   "name": "python2"
  },
  "language_info": {
   "codemirror_mode": {
    "name": "ipython",
    "version": 2
   },
   "file_extension": ".py",
   "mimetype": "text/x-python",
   "name": "python",
   "nbconvert_exporter": "python",
   "pygments_lexer": "ipython2",
   "version": "2.7.10"
  }
 },
 "nbformat": 4,
 "nbformat_minor": 0
}
