{
 "cells": [
  {
   "cell_type": "code",
   "execution_count": 7,
   "metadata": {
    "collapsed": false
   },
   "outputs": [],
   "source": [
    "def tip(tab, percent=15):\n",
    "    return tab * percent / 100.0 # so tip is the tab plus 15%\n",
    "def to_pay(tab, percent=15):\n",
    "    return tab +tip(tab,percent) # so to_pay is the tab + tip\n",
    "def tip_to_pay(tab, percent=15):\n",
    "    return tab * float(percent) / 100.0, tab +tip(tab,float(percent)) # so this returns two numbers: the tip and the total. \n",
    "# float means it can be a decimal number, not an integral"
   ]
  },
  {
   "cell_type": "code",
   "execution_count": 8,
   "metadata": {
    "collapsed": false
   },
   "outputs": [
    {
     "name": "stdout",
     "output_type": "stream",
     "text": [
      "$6.00\n",
      "$46.00\n",
      "Please pay $4,870.40 which includes a tip of $870.40\n"
     ]
    }
   ],
   "source": [
    "print '${:,.2f}'.format(tip(40)) # '${:,.2f} means that it should format with $ and have 2 digits after the ,\n",
    "print '${:,.2f}'.format(to_pay(40)) #it also needs to be used with .format to work.\n",
    "the_tip, the_total = tip_to_pay(4000, percent=21.76) # since tip_to_pay returns to values, \n",
    "# here we name this values so we can call them in the next line, to be printed\n",
    "print 'Please pay ${:,.2f} which includes a tip of ${:,.2f}'.format(the_total,the_tip)"
   ]
  },
  {
   "cell_type": "code",
   "execution_count": 9,
   "metadata": {
    "collapsed": true
   },
   "outputs": [],
   "source": [
    "tuple = ( 4,3,'frog') #tuples are imutable aka cant be changed. \n",
    "#tuple.sort() nope\n",
    "# tuple[0] = 1 no\n",
    "#tuple[0] = 1 not\n",
    "array = [4,3,'frog']\n",
    "print array\n",
    "array.sort()\n",
    "print array # this means that you are saying the value 0 of the array is 1. \n",
    "array[0] = 1 # array can change\n",
    "print array\n",
    "array[0] = 3\n",
    "print array\n",
    "\n",
    "#strings cant change either. You can ask about it, but not change it\n",
    "# 'french fries' [3:5] YES, will return letter in those postions you requested\n",
    "# 'french fries' (3) = u NO, cant change it"
   ]
  },
  {
   "cell_type": "code",
   "execution_count": 28,
   "metadata": {
    "collapsed": false
   },
   "outputs": [],
   "source": [
    "inventory = {\n",
    "    'gold' : 500,\n",
    "    'pouch' : ['flint', 'twine', 'gemstone'],\n",
    "    'backpack' : ['xilophone', 'dagger', 'bedroll', 'bread loaf'],\n",
    "} #you can redefine things, like writing new values for gold. more like array"
   ]
  },
  {
   "cell_type": "code",
   "execution_count": 29,
   "metadata": {
    "collapsed": false
   },
   "outputs": [
    {
     "name": "stdout",
     "output_type": "stream",
     "text": [
      "500\n"
     ]
    }
   ],
   "source": [
    "print inventory ['gold']"
   ]
  },
  {
   "cell_type": "code",
   "execution_count": 30,
   "metadata": {
    "collapsed": true
   },
   "outputs": [],
   "source": [
    "inventory['pouch'].append('stick')#will add stick to the list"
   ]
  },
  {
   "cell_type": "code",
   "execution_count": 31,
   "metadata": {
    "collapsed": true
   },
   "outputs": [],
   "source": [
    "inventory['pocket'] = ''"
   ]
  },
  {
   "cell_type": "code",
   "execution_count": 32,
   "metadata": {
    "collapsed": false
   },
   "outputs": [
    {
     "name": "stdout",
     "output_type": "stream",
     "text": [
      "{'pocket': '', 'backpack': ['xilophone', 'dagger', 'bedroll', 'bread loaf'], 'pouch': ['flint', 'twine', 'gemstone', 'stick'], 'gold': 500}\n"
     ]
    }
   ],
   "source": [
    "print inventory"
   ]
  },
  {
   "cell_type": "code",
   "execution_count": 33,
   "metadata": {
    "collapsed": false
   },
   "outputs": [
    {
     "name": "stdout",
     "output_type": "stream",
     "text": [
      "{'pocket': {'keys': ['house', 'car', 'bike'], 'wallet': ['cards', 'id']}, 'backpack': ['xilophone', 'dagger', 'bedroll', 'bread loaf'], 'pouch': ['flint', 'twine', 'gemstone', 'stick'], 'gold': 500}\n"
     ]
    }
   ],
   "source": [
    "inventory['pocket'] = {'wallet' : ['cards','id'], 'keys':['house','car','bike']}\n",
    "print inventory"
   ]
  },
  {
   "cell_type": "code",
   "execution_count": 34,
   "metadata": {
    "collapsed": false
   },
   "outputs": [
    {
     "name": "stdout",
     "output_type": "stream",
     "text": [
      "['house', 'car', 'bike']\n"
     ]
    }
   ],
   "source": [
    "print inventory['pocket']['keys'] #tell me this inside of that aka tell me the keys inside pocket"
   ]
  },
  {
   "cell_type": "code",
   "execution_count": 35,
   "metadata": {
    "collapsed": false
   },
   "outputs": [
    {
     "name": "stdout",
     "output_type": "stream",
     "text": [
      "dagger\n"
     ]
    }
   ],
   "source": [
    "print inventory['backpack'][1] #tell me the element in that position (1) inside backpack"
   ]
  },
  {
   "cell_type": "code",
   "execution_count": 36,
   "metadata": {
    "collapsed": false
   },
   "outputs": [
    {
     "name": "stdout",
     "output_type": "stream",
     "text": [
      "['pocket', 'backpack', 'pouch', 'gold']\n"
     ]
    }
   ],
   "source": [
    "print inventory.keys() # tell me everything in the same level as keys"
   ]
  },
  {
   "cell_type": "code",
   "execution_count": 37,
   "metadata": {
    "collapsed": false
   },
   "outputs": [
    {
     "name": "stdout",
     "output_type": "stream",
     "text": [
      "pocket {'keys': ['house', 'car', 'bike'], 'wallet': ['cards', 'id']}\n",
      "backpack ['xilophone', 'dagger', 'bedroll', 'bread loaf']\n",
      "pouch ['flint', 'twine', 'gemstone', 'stick']\n",
      "gold 500\n"
     ]
    }
   ],
   "source": [
    "for key,value in inventory.iteritems():\n",
    "    print key, value # dictionay is a list of key value pairs. keys contain values (here keys are like pocket, gold e tals)"
   ]
  },
  {
   "cell_type": "code",
   "execution_count": 38,
   "metadata": {
    "collapsed": false
   },
   "outputs": [
    {
     "name": "stdout",
     "output_type": "stream",
     "text": [
      "{'HPQ': 37.2, 'FB': 10.75, 'AAPL': 612.78, 'IBM': 205.55, 'ACME': 45.23}\n",
      "set(['HPQ', 'AAPL', 'IBM', 'MSFT'])\n"
     ]
    }
   ],
   "source": [
    "prices = {\n",
    "    'ACME': 45.23,\n",
    "    'AAPL': 612.78,\n",
    "    'IBM': 205.55,\n",
    "    'HPQ': 37.20,\n",
    "    'FB': 10.75\n",
    "}\n",
    "tech_names = { 'AAPL', 'IBM', 'HPQ', 'MSFT' }\n",
    "print prices\n",
    "\n",
    "print tech_names"
   ]
  },
  {
   "cell_type": "code",
   "execution_count": 39,
   "metadata": {
    "collapsed": true
   },
   "outputs": [],
   "source": [
    "tech_stocks = { key:value for key,value in prices.items() if key in tech_names } \n",
    "#define tech_stocks in the key:value format, for them both in the items of prices there are also in tech_names"
   ]
  },
  {
   "cell_type": "code",
   "execution_count": 40,
   "metadata": {
    "collapsed": false
   },
   "outputs": [
    {
     "name": "stdout",
     "output_type": "stream",
     "text": [
      "{'HPQ': 37.2, 'AAPL': 612.78, 'IBM': 205.55}\n"
     ]
    }
   ],
   "source": [
    "print tech_stocks"
   ]
  },
  {
   "cell_type": "code",
   "execution_count": 22,
   "metadata": {
    "collapsed": false
   },
   "outputs": [
    {
     "name": "stdout",
     "output_type": "stream",
     "text": [
      "HPQ 37.2\n",
      "AAPL 612.78\n",
      "IBM 205.55\n"
     ]
    }
   ],
   "source": [
    "for key,value in prices.items():\n",
    "    if key in tech_names:\n",
    "        print key,value\n",
    "#same as previous but in a different format\n",
    "#im still confused between a dictionary and this"
   ]
  },
  {
   "cell_type": "code",
   "execution_count": null,
   "metadata": {
    "collapsed": true
   },
   "outputs": [],
   "source": [
    "# ask differences + why my dictionary is not working"
   ]
  },
  {
   "cell_type": "code",
   "execution_count": null,
   "metadata": {
    "collapsed": true
   },
   "outputs": [],
   "source": [
    "#getting on the content of webpages"
   ]
  },
  {
   "cell_type": "code",
   "execution_count": 23,
   "metadata": {
    "collapsed": true
   },
   "outputs": [],
   "source": [
    "from lxml import html\n",
    "import requests #importing requests from the page\n",
    "page = requests.get('http://econpy.pythonanywhere.com/ex/001.html')\n",
    "tree = html.fromstring(page.text)"
   ]
  },
  {
   "cell_type": "code",
   "execution_count": 24,
   "metadata": {
    "collapsed": false
   },
   "outputs": [
    {
     "name": "stdout",
     "output_type": "stream",
     "text": [
      "<Response [200]>\n"
     ]
    }
   ],
   "source": [
    "print page"
   ]
  },
  {
   "cell_type": "code",
   "execution_count": 25,
   "metadata": {
    "collapsed": false
   },
   "outputs": [
    {
     "name": "stdout",
     "output_type": "stream",
     "text": [
      "<Element html at 0x1051c5208>\n"
     ]
    }
   ],
   "source": [
    "print tree"
   ]
  },
  {
   "cell_type": "code",
   "execution_count": 26,
   "metadata": {
    "collapsed": true
   },
   "outputs": [],
   "source": [
    "buyers = tree.xpath('//div[@title=\"buyer-name\"]/text()') \n",
    "#look for things div that have a title like \"buyer name\" and give me the text (/text)\n",
    "#in html5 sections of the pages have names so it's easier to find\n",
    "#finds all the links in the files then th links in that files and so on"
   ]
  },
  {
   "cell_type": "code",
   "execution_count": 27,
   "metadata": {
    "collapsed": false
   },
   "outputs": [
    {
     "name": "stdout",
     "output_type": "stream",
     "text": [
      "['Carson Busses', 'Earl E. Byrd', 'Patty Cakes', 'Derri Anne Connecticut', 'Moe Dess', 'Leda Doggslife', 'Dan Druff', 'Al Fresco', 'Ido Hoe', 'Howie Kisses', 'Len Lease', 'Phil Meup', 'Ira Pent', 'Ben D. Rules', 'Ave Sectomy', 'Gary Shattire', 'Bobbi Soks', 'Sheila Takya', 'Rose Tattoo', 'Moe Tell']\n"
     ]
    }
   ],
   "source": [
    "print buyers"
   ]
  },
  {
   "cell_type": "code",
   "execution_count": null,
   "metadata": {
    "collapsed": true
   },
   "outputs": [],
   "source": [
    "# in the terminal\n"
   ]
  }
 ],
 "metadata": {
  "kernelspec": {
   "display_name": "Python 2",
   "language": "python",
   "name": "python2"
  },
  "language_info": {
   "codemirror_mode": {
    "name": "ipython",
    "version": 2
   },
   "file_extension": ".py",
   "mimetype": "text/x-python",
   "name": "python",
   "nbconvert_exporter": "python",
   "pygments_lexer": "ipython2",
   "version": "2.7.10"
  }
 },
 "nbformat": 4,
 "nbformat_minor": 0
}
